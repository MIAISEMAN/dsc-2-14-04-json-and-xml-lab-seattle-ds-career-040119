{
 "cells": [
  {
   "cell_type": "markdown",
   "metadata": {},
   "source": [
    "Two ways to represent three tables of data about housing in King County: \n",
    "* column-major representation: each column is stored independently of each other column \n",
    "* row-major representation: each row is stored separately from each other row \n",
    "\n",
    "Things that are similar should be in a list, and things that are different from each other should be in a dictionary. \n",
    "\n",
    "Column-major needs space to fit a whole column. We're also trusting that the indices line up (index-as-key anti-pattern) which they could not. This leads us to preferring row-major reps. "
   ]
  },
  {
   "cell_type": "markdown",
   "metadata": {},
   "source": [
    "Here is an example of a markdown cell using HTML^. XML is similar in that you have to start and end things."
   ]
  },
  {
   "cell_type": "markdown",
   "metadata": {},
   "source": [
    "<h1>Cool People</h1>\n",
    "<ul>\n",
    "    <li>Beyoncé</li>\n",
    "    <li>AOC</li>\n",
    "    <li>Arya Stark</li>"
   ]
  },
  {
   "cell_type": "markdown",
   "metadata": {},
   "source": [
    "These starters and stoppers are called TAGS. "
   ]
  },
  {
   "cell_type": "markdown",
   "metadata": {},
   "source": [
    "Example of trying to make the dictionary with XML: "
   ]
  },
  {
   "cell_type": "markdown",
   "metadata": {},
   "source": [
    "'''xml\n",
    "<house>\n",
    "    <address>1503 NE 83rd St</address>\n",
    "    <zipcode>98115</zipcode>\n",
    "    <sales>\n",
    "        <sale id=1, name='inheritance'>\n",
    "            <date>2016-11-09</date>\n",
    "            <saleprice>0</saleprice>\n",
    "            <reason>Inherited</reason>\n",
    "        </sale>\n",
    "        <sale id=2, name='first sale'>\n",
    "            ...\n",
    "        </sale>\n",
    "    </sales>\n",
    "    <tax_assessments>\n",
    "        <tax id=1 name='before inheritance'>\n",
    "            ...\n",
    "        </tax>\n",
    "        <tax>\n",
    "            ...\n",
    "        </tax>\n",
    "    </tax_assessments>\n",
    "</house>\n",
    "\n",
    "'''"
   ]
  },
  {
   "cell_type": "code",
   "execution_count": null,
   "metadata": {},
   "outputs": [],
   "source": []
  }
 ],
 "metadata": {
  "kernelspec": {
   "display_name": "Python 3",
   "language": "python",
   "name": "python3"
  },
  "language_info": {
   "codemirror_mode": {
    "name": "ipython",
    "version": 3
   },
   "file_extension": ".py",
   "mimetype": "text/x-python",
   "name": "python",
   "nbconvert_exporter": "python",
   "pygments_lexer": "ipython3",
   "version": "3.7.1"
  }
 },
 "nbformat": 4,
 "nbformat_minor": 2
}
